{
 "cells": [
  {
   "cell_type": "code",
   "execution_count": 1,
   "metadata": {},
   "outputs": [],
   "source": [
    "import cv2\n",
    "import numpy as np\n",
    "# import NatronEngine"
   ]
  },
  {
   "cell_type": "code",
   "execution_count": 31,
   "metadata": {},
   "outputs": [
    {
     "name": "stdout",
     "output_type": "stream",
     "text": [
      "Frames per second :  60.0 FPS\n"
     ]
    },
    {
     "name": "stderr",
     "output_type": "stream",
     "text": [
      "OpenCV: FFMPEG: tag 0x5634504d/'MP4V' is not supported with codec id 12 and format 'mp4 / MP4 (MPEG-4 Part 14)'\n",
      "OpenCV: FFMPEG: fallback to use tag 0x7634706d/'mp4v'\n"
     ]
    },
    {
     "name": "stdout",
     "output_type": "stream",
     "text": [
      "121\n"
     ]
    }
   ],
   "source": [
    "import math\n",
    "import random\n",
    "\n",
    "mask_1= cv2.VideoCapture('/home/v/Projects/Manim/media/videos/grid/1080p60/GridWave.mp4')\n",
    "mask_2 = cv2.VideoCapture('/home/v/Projects/Manim/media/videos/sine/1080p60/SineWave.mp4')\n",
    "mask_3 = cv2.VideoCapture('/home/v/Projects/Manim/media/videos/sine/1080p60/SineWaveAM.mp4')\n",
    "\n",
    "def randomColor():\n",
    "  return [random.randint(0,255),random.randint(0,255),random.randint(0 ,255)]\n",
    "def createMasks(masks,numFrames):\n",
    "  T=0\n",
    "  img_array=[]\n",
    "  colors=[randomColor() for ii in range(len(masks)+1)]\n",
    "  if (masks[0].isOpened() == False):\n",
    "    print(\"Error opening the video file\")\n",
    "  # Read fps and frame count\n",
    "  else:\n",
    "    # Get frame rate information\n",
    "    # You can replace 5 with CAP_PROP_FPS as well, they are enumerations\n",
    "    fps = masks[0].get(cv2.CAP_PROP_FPS)\n",
    "    print('Frames per second : ', fps,'FPS') \n",
    "  while(masks[0].isOpened()):\n",
    "    if(T>numFrames):\n",
    "      break\n",
    "    # print(\"FRAME:\",T)\n",
    "    # if(T==0):\n",
    "    #   create fill fill_img here\n",
    "    \n",
    "    for ii, mask in enumerate(masks):\n",
    "      ret, mask_frame = mask.read()\n",
    "      if(ii==2):\n",
    "        mask_frame=cv2.bitwise_not(mask_frame)\n",
    "      # TODO add other masks\n",
    "      # composite_mask=cv2.bitwise_xor(mask_frame,mask_frame_2)\n",
    "      if ret == True:\n",
    "        if(ii==0  ):  \n",
    "          built_up_img = np.zeros(mask_frame.shape, np.uint8)\n",
    "          built_up_img[:] =colors[ii]\n",
    "\n",
    "        fill_img = np.zeros(mask_frame.shape, np.uint8)\n",
    "        fill_img[:] =colors[ii+1]\n",
    "        built_up_img=cv2.bitwise_or(cv2.bitwise_and(mask_frame, built_up_img),cv2.bitwise_and(cv2.bitwise_not(mask_frame),fill_img))\n",
    "          \n",
    "      else:\n",
    "          mask.set(cv2.CAP_PROP_POS_FRAMES, 0)\n",
    "    img_array.append(built_up_img)\n",
    "    T=T+1\n",
    "    \n",
    "  out = cv2.VideoWriter('composite.mp4',cv2.VideoWriter_fourcc(*'MP4V'),fps, [mask_frame.shape[1],mask_frame.shape[0]])\n",
    "  print(len(img_array))\n",
    "  for frame in img_array:\n",
    "    out.write(frame)\n",
    "  out.release()\n",
    "  for mask in masks:\n",
    "    mask.release()\n",
    "  cv2.destroyAllWindows()\n",
    "\n",
    "createMasks([\n",
    "  mask_2,\n",
    "  mask_3,\n",
    "  mask_1,\n",
    "],60*2)"
   ]
  }
 ],
 "metadata": {
  "kernelspec": {
   "display_name": ".venv",
   "language": "python",
   "name": "python3"
  },
  "language_info": {
   "codemirror_mode": {
    "name": "ipython",
    "version": 3
   },
   "file_extension": ".py",
   "mimetype": "text/x-python",
   "name": "python",
   "nbconvert_exporter": "python",
   "pygments_lexer": "ipython3",
   "version": "3.10.6"
  },
  "orig_nbformat": 4,
  "vscode": {
   "interpreter": {
    "hash": "ed675cd715ed4cb33c6743f26d19703a9228ce898cae5db8cfc85fe2cf908080"
   }
  }
 },
 "nbformat": 4,
 "nbformat_minor": 2
}
